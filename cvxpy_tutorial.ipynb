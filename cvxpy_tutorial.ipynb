{
 "cells": [
  {
   "cell_type": "markdown",
   "metadata": {},
   "source": [
    "# CVX Tutorial\n",
    "\n",
    "Work on `cvxpy` from the site's [tutorial](https://www.cvxpy.org/tutorial/index.html) and [examples](https://www.cvxpy.org/examples/), respectively."
   ]
  },
  {
   "cell_type": "code",
   "execution_count": 70,
   "metadata": {},
   "outputs": [],
   "source": [
    "# Libraries\n",
    "import numpy as np\n",
    "import cvxpy as cp\n",
    "import matplotlib.pyplot as plt"
   ]
  },
  {
   "cell_type": "markdown",
   "metadata": {},
   "source": [
    "# Part 1: Tutorial\n",
    "## 1. What is CVXPY?\n",
    "### 1.1 Changing the problem\n",
    "__Problem__ : immutable!\n",
    "$\\to$ to change objective/constraints, create new problem\n",
    "\n",
    "For example, consider the simple optimization problem:"
   ]
  },
  {
   "cell_type": "code",
   "execution_count": 71,
   "metadata": {
    "scrolled": true
   },
   "outputs": [
    {
     "name": "stdout",
     "output_type": "stream",
     "text": [
      "status: optimal\n",
      "optimal value 1.0\n",
      "optimal var 1.0 1.570086213240983e-22\n"
     ]
    }
   ],
   "source": [
    "# Two scalar optimization variables\n",
    "x = cp.Variable()\n",
    "y = cp.Variable()\n",
    "\n",
    "# Two constraints\n",
    "constraints = [x + y == 1,\n",
    "               x - y >= 1]\n",
    "\n",
    "# Objective\n",
    "objective = cp.Minimize((x - y)**2)\n",
    "\n",
    "# Form & solve problem\n",
    "prob = cp.Problem(objective, constraints)\n",
    "prob.solve()  # returns optimal value\n",
    "print(\"status:\", prob.status)\n",
    "print(\"optimal value\", prob.value)\n",
    "print(\"optimal var\", x.value, y.value)"
   ]
  },
  {
   "cell_type": "markdown",
   "metadata": {},
   "source": [
    "Now, create new problem"
   ]
  },
  {
   "cell_type": "code",
   "execution_count": 72,
   "metadata": {},
   "outputs": [
    {
     "name": "stdout",
     "output_type": "stream",
     "text": [
      "optimal value 0.9999999999945574\n",
      "optimal value 2.999999999974675\n"
     ]
    }
   ],
   "source": [
    "# Replace the objective!\n",
    "objective2 = cp.Maximize(x + y)\n",
    "prob2 = cp.Problem(objective2, prob.constraints)\n",
    "print(\"optimal value\", prob2.solve())\n",
    "\n",
    "# Replace constraint (x + y == 1)\n",
    "constraints = [x + y <= 3] + prob2.constraints[1:]\n",
    "prob3 = cp.Problem(prob2.objective, constraints)\n",
    "print(\"optimal value\", prob3.solve())"
   ]
  },
  {
   "cell_type": "markdown",
   "metadata": {},
   "source": [
    "### 1.2 Infeasible and unbounded problems\n",
    "\n",
    "If infeasible/unbounded:\n",
    "- status reflects this\n",
    "- value fields not updated\n",
    "\n",
    "_Optimal value_ for minimization (opposite for max.):\n",
    "- `inf` if infeasible\n",
    "- `-inf` if unbounded"
   ]
  },
  {
   "cell_type": "code",
   "execution_count": 73,
   "metadata": {},
   "outputs": [
    {
     "name": "stdout",
     "output_type": "stream",
     "text": [
      "status: None\n",
      "optimal value None\n"
     ]
    }
   ],
   "source": [
    "# Univariate scalar\n",
    "x = cp.Variable()\n",
    "\n",
    "# Infeasible problem\n",
    "objective = cp.Minimize(x)\n",
    "constraints = [x >= 1, x <= 0]\n",
    "prob = cp.Problem(objective, constraints)\n",
    "print(\"status:\", prob.status)\n",
    "print(\"optimal value\", prob.value)"
   ]
  },
  {
   "cell_type": "code",
   "execution_count": 74,
   "metadata": {},
   "outputs": [
    {
     "name": "stdout",
     "output_type": "stream",
     "text": [
      "status: unbounded\n",
      "optimal value -inf\n"
     ]
    }
   ],
   "source": [
    "# Unbounded problem\n",
    "prob = cp.Problem(cp.Minimize(x))\n",
    "prob.solve()\n",
    "print(\"status:\", prob.status)\n",
    "print(\"optimal value\", prob.value)"
   ]
  },
  {
   "cell_type": "markdown",
   "metadata": {},
   "source": [
    "### 1.3 Other problem statuses\n",
    "\n",
    "Aliases for status strings:\n",
    "- If problem solved, but to lower-than-desired accuracy, then one of:\n",
    "    - `OPTIMAL`\n",
    "    - `INFEASIBLE`\n",
    "    - `UNBOUNDED`\n",
    "- Otherwise:\n",
    "    - `OPTIMAL_INACCURATE`\n",
    "    - `INFEASIBLE_INACCURATE`\n",
    "    - `UNBOUNDED INACCURATE`\n",
    "    \n",
    "If completely fails to solve, then `SolverError` (choose another solver?)\n",
    "\n",
    "To test if problem solved successfully:\n",
    "```\n",
    "prob.status == OPTIMAL\n",
    "```"
   ]
  },
  {
   "cell_type": "markdown",
   "metadata": {},
   "source": [
    "### 1.4 Vectors and matrices"
   ]
  },
  {
   "cell_type": "code",
   "execution_count": 75,
   "metadata": {},
   "outputs": [],
   "source": [
    "# Scalar\n",
    "a = cp.Variable()\n",
    "\n",
    "# Vector of shape (5, )\n",
    "x = cp.Variable(5)\n",
    "\n",
    "# Matrix of shape (4, 7)\n",
    "x = cp.Variable((4, 7))"
   ]
  },
  {
   "cell_type": "markdown",
   "metadata": {},
   "source": [
    "_Example_ : see least-squares with box constraint!"
   ]
  },
  {
   "cell_type": "markdown",
   "metadata": {},
   "source": [
    "### 1.5 Constraints\n",
    "_Can_ use:\n",
    "- `==`, `<=`, and `>=` (always elementwise)\n",
    "\n",
    "__CANNOT USE__:\n",
    "- `>` and `<`\n",
    "- Chained constraints (e.g. `0 <= x <= 1` or `x == y == 2`)"
   ]
  },
  {
   "cell_type": "markdown",
   "metadata": {},
   "source": [
    "### 1.6 Parameters\n",
    "__Parameter__ : symbolic constant\n",
    "- Allow changing of value of constant w/o reconstructing entire problem\n",
    "- Can specify attributes -- see:\n",
    "    - Disciplined Parameterized Programming (DPP)\n",
    "    - Disciplined Convex Programming (DCP)\n",
    "- Can be assigned const value any time after creation\n",
    "\n",
    "_Examples_ :"
   ]
  },
  {
   "cell_type": "code",
   "execution_count": 76,
   "metadata": {},
   "outputs": [],
   "source": [
    "# Positive scalar parameter\n",
    "m = cp.Parameter(nonneg = True)\n",
    "\n",
    "# Col vector param w/unk sign (by default)\n",
    "c = cp.Parameter(5)\n",
    "\n",
    "# Matrix param w/negative entries\n",
    "G = cp.Parameter((4, 7), nonpos = True)\n",
    "\n",
    "# Assigns const value to G\n",
    "G.value = -np.ones((4, 7))"
   ]
  },
  {
   "cell_type": "code",
   "execution_count": 77,
   "metadata": {},
   "outputs": [
    {
     "data": {
      "text/plain": [
       "Parameter((4, 7), nonpos=True)"
      ]
     },
     "execution_count": 77,
     "metadata": {},
     "output_type": "execute_result"
    }
   ],
   "source": [
    "G"
   ]
  },
  {
   "cell_type": "code",
   "execution_count": 78,
   "metadata": {},
   "outputs": [
    {
     "data": {
      "text/plain": [
       "array([[-1., -1., -1., -1., -1., -1., -1.],\n",
       "       [-1., -1., -1., -1., -1., -1., -1.],\n",
       "       [-1., -1., -1., -1., -1., -1., -1.],\n",
       "       [-1., -1., -1., -1., -1., -1., -1.]])"
      ]
     },
     "execution_count": 78,
     "metadata": {},
     "output_type": "execute_result"
    }
   ],
   "source": [
    "G.value"
   ]
  },
  {
   "cell_type": "markdown",
   "metadata": {},
   "source": [
    "Can also init param w/value:"
   ]
  },
  {
   "cell_type": "code",
   "execution_count": 79,
   "metadata": {},
   "outputs": [],
   "source": [
    "# Create param, then assign\n",
    "rho = cp.Parameter(nonneg = True)\n",
    "rho.value = 2\n",
    "\n",
    "# Equivalent init param w/value\n",
    "rho = cp.Parameter(nonneg = True, value = 2)"
   ]
  },
  {
   "cell_type": "markdown",
   "metadata": {},
   "source": [
    "Parameters commonly used to compute __trade-off curves__, as in LASSO (code doesn't work?)"
   ]
  },
  {
   "cell_type": "markdown",
   "metadata": {},
   "source": [
    "## 2. Disciplined convex programming\n",
    "\n",
    "### 2.1 Expressions\n",
    "_Examples_ :"
   ]
  },
  {
   "cell_type": "code",
   "execution_count": 102,
   "metadata": {},
   "outputs": [
    {
     "data": {
      "text/plain": [
       "Expression(CONVEX, NONNEGATIVE, ())"
      ]
     },
     "execution_count": 102,
     "metadata": {},
     "output_type": "execute_result"
    }
   ],
   "source": [
    "# Create variables and parameters.\n",
    "x, y = cp.Variable(), cp.Variable()\n",
    "a, b = cp.Parameter(), cp.Parameter()\n",
    "\n",
    "# Examples of CVXPY expressions.\n",
    "3.69 + b/3\n",
    "x - 4*a\n",
    "cp.sqrt(x) - cp.minimum(y, x - a)\n",
    "cp.maximum(2.66 - cp.sqrt(y), cp.square(x + 2*y))"
   ]
  },
  {
   "cell_type": "markdown",
   "metadata": {},
   "source": [
    "- Dimensions: `expr.shape`\n",
    "- Total entries: `expr.size`\n",
    "- Number of dimensions: `expr.ndim`"
   ]
  },
  {
   "cell_type": "code",
   "execution_count": 105,
   "metadata": {},
   "outputs": [
    {
     "name": "stdout",
     "output_type": "stream",
     "text": [
      "dimensions of X: (5, 4)\n",
      "size of X: 20\n",
      "number of dimensions: 2\n",
      "dimensions of sum(X): ()\n",
      "dimensions of A @ X: (3, 4)\n",
      "Cannot broadcast dimensions  (3, 5) (5, 4)\n"
     ]
    }
   ],
   "source": [
    "X = cp.Variable((5, 4))\n",
    "A = numpy.ones((3, 5))\n",
    "\n",
    "# Use expr.shape to get the dimensions.\n",
    "print(\"dimensions of X:\", X.shape)\n",
    "print(\"size of X:\", X.size)\n",
    "print(\"number of dimensions:\", X.ndim)\n",
    "print(\"dimensions of sum(X):\", cp.sum(X).shape)\n",
    "print(\"dimensions of A @ X:\", (A @ X).shape)\n",
    "\n",
    "# ValueError raised for invalid dimensions.\n",
    "try:\n",
    "    A + X\n",
    "except ValueError as e:\n",
    "    print(e)"
   ]
  },
  {
   "cell_type": "markdown",
   "metadata": {},
   "source": [
    "### 2.2 Sign\n",
    "Each (sub)expression flagged as\n",
    "- _positive_ (non-negative) -- if even # of same signs\n",
    "- _negative_ (non-positive) -- if odd # of same, known signs\n",
    "- _zero_ (if any expression has sign 0)\n",
    "- _unknown_ (if either expression has unknown sign)\n",
    "\n",
    "Sign in `expr.sign`:"
   ]
  },
  {
   "cell_type": "code",
   "execution_count": 106,
   "metadata": {},
   "outputs": [
    {
     "name": "stdout",
     "output_type": "stream",
     "text": [
      "sign of x: UNKNOWN\n",
      "sign of a: NONPOSITIVE\n",
      "sign of square(x): NONNEGATIVE\n",
      "sign of c*a: UNKNOWN\n"
     ]
    }
   ],
   "source": [
    "x = cp.Variable()\n",
    "a = cp.Parameter(nonpos=True)\n",
    "c = numpy.array([1, -1])\n",
    "\n",
    "print(\"sign of x:\", x.sign)\n",
    "print(\"sign of a:\", a.sign)\n",
    "print(\"sign of square(x):\", cp.square(x).sign)\n",
    "print(\"sign of c*a:\", (c*a).sign)"
   ]
  },
  {
   "cell_type": "markdown",
   "metadata": {},
   "source": [
    "### 2.3 Curvature\n",
    "\n",
    "_Options_:\n",
    "- constant\n",
    "- affine (also holds for constant)\n",
    "- convex\n",
    "- concave\n",
    "- unknown\n",
    "\n",
    "Recall affine $\\implies$ convex & concave"
   ]
  },
  {
   "cell_type": "markdown",
   "metadata": {},
   "source": [
    "### 2.4 Curvature rules\n",
    "Based on __general composition theorem__ to each (sub)expression:\n",
    "1. $f(e_1, \\, \\dots, \\, e_n)$ convex if $f$ convex and for each $e_i$, one of the following holds:\n",
    "    - $f$ increasing in argument $i$ and $e_i$ is convex\n",
    "    - $f$ decreasing in argument $i$ and $e_i$ is concave\n",
    "    - $e_i$ is affine or constant\n",
    "2. $f(e_1, \\, \\dots, \\, e_n)$ convace if $f$ concave and for each $e_i$, one of the following holds:\n",
    "    - $f$ increasing in argument $i$ and $e_i$ is concave\n",
    "    - $f$ decreasing in argument $i$ and $e_i$ is convex\n",
    "    - $e_i$ is affine or constant\n",
    "3. $f(e_1, \\, \\dots, \\, e_n)$ affine if $f$ affine and each $e_i$ affine\n",
    "4. If none of the above apply, then unknown!\n",
    "\n",
    "_Notes_ :\n",
    "- Increasing depends on sign of argument\n",
    "- Curvature in `expr.curvature`"
   ]
  },
  {
   "cell_type": "code",
   "execution_count": 107,
   "metadata": {},
   "outputs": [
    {
     "name": "stdout",
     "output_type": "stream",
     "text": [
      "curvature of x: AFFINE\n",
      "curvature of a: CONSTANT\n",
      "curvature of square(x): CONVEX\n",
      "curvature of sqrt(x): CONCAVE\n"
     ]
    }
   ],
   "source": [
    "x = cp.Variable()\n",
    "a = cp.Parameter(nonneg=True)\n",
    "\n",
    "print(\"curvature of x:\", x.curvature)\n",
    "print(\"curvature of a:\", a.curvature)\n",
    "print(\"curvature of square(x):\", cp.square(x).curvature)\n",
    "print(\"curvature of sqrt(x):\", cp.sqrt(x).curvature)"
   ]
  },
  {
   "cell_type": "markdown",
   "metadata": {},
   "source": [
    "### 2.5 Infix operators\n",
    "\n",
    "`+, -, *, /` and `@` __infix operators__ treated like functions -- see more on tutorial site..."
   ]
  },
  {
   "cell_type": "markdown",
   "metadata": {},
   "source": [
    "### 2.6 DCP problems\n",
    "\n",
    "Objective must have one of two forms:\n",
    "- Minimize (convex)\n",
    "- Maximize (concave_\n",
    "\n",
    "Only valid constraints under DCP rules:\n",
    "- affine == affine\n",
    "- convex <= concave\n",
    "- concave >= convex\n",
    "\n",
    "_Can check_ if satisfies DCP by `object.is_dcp()"
   ]
  },
  {
   "cell_type": "code",
   "execution_count": 109,
   "metadata": {},
   "outputs": [
    {
     "name": "stdout",
     "output_type": "stream",
     "text": [
      "prob1 is DCP: True\n",
      "prob2 is DCP: True\n"
     ]
    }
   ],
   "source": [
    "# Vars\n",
    "x = cp.Variable()\n",
    "y = cp.Variable()\n",
    "\n",
    "# Some DCP problems\n",
    "prob1 = cp.Problem(cp.Minimize(cp.square(x - y)),\n",
    "                   [x + y >= 0])\n",
    "prob2 = cp.Problem(cp.Maximize(cp.sqrt(x - y)),\n",
    "                   [2*x - 3 == y,\n",
    "                    cp.square(x) <= 2])\n",
    "\n",
    "print(\"prob1 is DCP:\", prob1.is_dcp())\n",
    "print(\"prob2 is DCP:\", prob2.is_dcp())"
   ]
  },
  {
   "cell_type": "markdown",
   "metadata": {},
   "source": [
    "Some example non-DCP problems:"
   ]
  },
  {
   "cell_type": "code",
   "execution_count": 110,
   "metadata": {},
   "outputs": [
    {
     "name": "stdout",
     "output_type": "stream",
     "text": [
      "prob3 is DCP: False\n",
      "Maximize(square(x)) is DCP: False\n",
      "prob4 is DCP: False\n",
      "sqrt(x) <= 2 is DCP: False\n"
     ]
    }
   ],
   "source": [
    "# Non-DCP objective\n",
    "obj = cp.Maximize(cp.square(x))\n",
    "prob3 = cp.Problem(obj)\n",
    "\n",
    "print(\"prob3 is DCP:\", prob3.is_dcp())\n",
    "print(\"Maximize(square(x)) is DCP:\", obj.is_dcp())\n",
    "\n",
    "# Non-DCP constraint\n",
    "prob4 = cp.Problem(cp.Minimize(cp.square(x)),\n",
    "                   [cp.sqrt(x) <= 2])\n",
    "\n",
    "print(\"prob4 is DCP:\", prob4.is_dcp())\n",
    "print(\"sqrt(x) <= 2 is DCP:\", (cp.sqrt(x) <= 2).is_dcp())"
   ]
  },
  {
   "cell_type": "markdown",
   "metadata": {},
   "source": [
    "Error raised if `problem.solve()` on non-DCP problem!"
   ]
  },
  {
   "cell_type": "code",
   "execution_count": 111,
   "metadata": {},
   "outputs": [
    {
     "name": "stdout",
     "output_type": "stream",
     "text": [
      "Problem does not follow DCP rules. Specifically:\n",
      "The objective is not DCP, even though each sub-expression is.\n",
      "You are trying to minimize a function that is concave.\n",
      "However, the problem does follow DQCP rules. Consider calling solve() with `qcp=True`.\n"
     ]
    }
   ],
   "source": [
    "# Non-DCP problem\n",
    "prob = cp.Problem(cp.Minimize(cp.sqrt(x)))\n",
    "\n",
    "try:\n",
    "    prob.solve()\n",
    "except Exception as e:\n",
    "    print(e)"
   ]
  },
  {
   "cell_type": "markdown",
   "metadata": {},
   "source": [
    "# Part 2: Examples\n",
    "## 1. Least Squares\n",
    "### 1.1 Vanilla\n",
    "$$\\text{minimize} \\;\\; \\|A x - b\\|_2^2$$"
   ]
  },
  {
   "cell_type": "code",
   "execution_count": 80,
   "metadata": {},
   "outputs": [
    {
     "data": {
      "text/plain": [
       "7.005909828287484"
      ]
     },
     "execution_count": 80,
     "metadata": {},
     "output_type": "execute_result"
    }
   ],
   "source": [
    "# Data\n",
    "m = 20\n",
    "n = 15\n",
    "np.random.seed(1)\n",
    "A = np.random.randn(m, n)\n",
    "b = np.random.randn(m)\n",
    "\n",
    "# Define the problem\n",
    "x = cp.Variable(n)\n",
    "cost = cp.sum_squares(A @ x - b)\n",
    "prob = cp.Problem(cp.Minimize(cost))\n",
    "prob.solve()"
   ]
  },
  {
   "cell_type": "code",
   "execution_count": 81,
   "metadata": {},
   "outputs": [
    {
     "name": "stdout",
     "output_type": "stream",
     "text": [
      "Optimal value:  7.005909828287484\n",
      "Optimal x: \n",
      "[ 0.17492418 -0.38102551  0.34732251  0.0173098  -0.0845784  -0.08134019\n",
      "  0.293119    0.27019762  0.17493179 -0.23953449  0.64097935 -0.41633637\n",
      "  0.12799688  0.1063942  -0.32158411]\n",
      "Norm of residual:  2.6468679280023557\n"
     ]
    }
   ],
   "source": [
    "# Print the result\n",
    "print(\"Optimal value: \", prob.value)\n",
    "print(\"Optimal x: \")\n",
    "print(x.value)\n",
    "print(\"Norm of residual: \", cp.norm(A @ x - b, p = 2).value)"
   ]
  },
  {
   "cell_type": "markdown",
   "metadata": {},
   "source": [
    "#### 1.2 Least squares with box constraint\n",
    "\n",
    "$$\n",
    "\\begin{align}\n",
    "&\\text{minimize} \\;\\; \\|A x - b\\|_2^2 \\\\\n",
    "&\\text{subject to} \\;\\; x \\in [0, 1]\n",
    "\\end{align}\n",
    "$$"
   ]
  },
  {
   "cell_type": "code",
   "execution_count": 82,
   "metadata": {},
   "outputs": [],
   "source": [
    "# Data\n",
    "m = 30\n",
    "n = 20\n",
    "np.random.seed(1)\n",
    "A = np.random.randn(m, n)\n",
    "b = np.random.randn(m)\n",
    "\n",
    "# Problem construction\n",
    "x = cp.Variable(n)\n",
    "objective = cp.Minimize(cp.sum_squares(A @ x - b))\n",
    "constraints = [0 <= x, x <= 1]\n",
    "prob = cp.Problem(objective, constraints)"
   ]
  },
  {
   "cell_type": "markdown",
   "metadata": {},
   "source": [
    "Optimal objective value in `prob.solve()`"
   ]
  },
  {
   "cell_type": "code",
   "execution_count": 83,
   "metadata": {},
   "outputs": [
    {
     "data": {
      "text/plain": [
       "19.83126370644502"
      ]
     },
     "execution_count": 83,
     "metadata": {},
     "output_type": "execute_result"
    }
   ],
   "source": [
    "result = prob.solve()\n",
    "result"
   ]
  },
  {
   "cell_type": "markdown",
   "metadata": {},
   "source": [
    "Optimal value for `x` in `x.value`"
   ]
  },
  {
   "cell_type": "code",
   "execution_count": 84,
   "metadata": {},
   "outputs": [
    {
     "name": "stdout",
     "output_type": "stream",
     "text": [
      "[-1.79109255e-19  2.85112420e-02  2.79973443e-19  3.37658729e-20\n",
      " -2.72802663e-19  1.49285011e-01 -9.94082533e-20  8.35373900e-20\n",
      "  2.46718649e-01  5.78224144e-01 -4.03739463e-19  1.01242860e-03\n",
      " -9.28486180e-20  2.26767464e-01 -1.58813678e-19 -8.97232272e-20\n",
      " -1.22145729e-19 -1.51509428e-19  1.12060672e-19 -3.48318635e-19]\n"
     ]
    }
   ],
   "source": [
    "print(x.value)"
   ]
  },
  {
   "cell_type": "markdown",
   "metadata": {},
   "source": [
    "Optimal Lagrange multiplier for constraint in `constraint.dual_value`"
   ]
  },
  {
   "cell_type": "code",
   "execution_count": 85,
   "metadata": {},
   "outputs": [
    {
     "name": "stdout",
     "output_type": "stream",
     "text": [
      "[ 2.50938945  0.          2.78354615  1.79425782 13.08579183  0.\n",
      "  0.73716363  3.35344995  0.          0.          8.93825054  0.\n",
      "  7.02955161  0.          4.71068649  3.18873635  2.06090107 10.08166738\n",
      "  3.0481157   8.53268239]\n"
     ]
    }
   ],
   "source": [
    "print(constraints[0].dual_value)"
   ]
  },
  {
   "cell_type": "markdown",
   "metadata": {},
   "source": [
    "## 2. Linear program (LP)\n",
    "\n",
    "__Problem statement__ :\n",
    "$$\n",
    "\\begin{align}\n",
    "&\\text{minimize} \\;\\; c^T x \\\\\n",
    "&\\text{subject to} \\;\\; A x \\leq b\n",
    "\\end{align}\n",
    "$$"
   ]
  },
  {
   "cell_type": "code",
   "execution_count": 86,
   "metadata": {},
   "outputs": [
    {
     "data": {
      "text/plain": [
       "-15.220912605552911"
      ]
     },
     "execution_count": 86,
     "metadata": {},
     "output_type": "execute_result"
    }
   ],
   "source": [
    "# Generate random non-trivial linear program\n",
    "m = 15\n",
    "n = 10\n",
    "np.random.seed(1)\n",
    "s0 = np.random.randn(m)\n",
    "lamb0 = np.maximum(-s0, 0)\n",
    "s0 = np.maximum(s0, 0)\n",
    "x0 = np.random.randn(n)\n",
    "A = np.random.randn(m, n)\n",
    "b = A @ x0 + s0\n",
    "c = -A.T @ lamb0\n",
    "\n",
    "# Define & solve problem\n",
    "x = cp.Variable(n)\n",
    "objective = cp.Minimize(c.T @ x)\n",
    "constraints = [A @ x <= b]\n",
    "prob = cp.Problem(objective, constraints)\n",
    "prob.solve()"
   ]
  },
  {
   "cell_type": "code",
   "execution_count": 87,
   "metadata": {},
   "outputs": [
    {
     "name": "stdout",
     "output_type": "stream",
     "text": [
      "The optimal value is -15.220912605552911\n",
      "A solution x is\n",
      "[-1.10133381 -0.16360111 -0.89734939  0.03216603  0.6069123  -1.12687348\n",
      "  1.12967856  0.88176638  0.49075229  0.8984822 ]\n",
      "A dual solution is\n",
      "[6.98804542e-10 6.11756416e-01 5.28171747e-01 1.07296862e+00\n",
      " 3.93758851e-09 2.30153870e+00 4.25703999e-10 7.61206896e-01\n",
      " 8.36905532e-09 2.49370377e-01 1.30187000e-09 2.06014070e+00\n",
      " 3.22417207e-01 3.84054343e-01 1.59493644e-09]\n"
     ]
    }
   ],
   "source": [
    "# Print results\n",
    "print(\"The optimal value is\", prob.value)\n",
    "print(\"A solution x is\")\n",
    "print(x.value)\n",
    "print(\"A dual solution is\")\n",
    "print(prob.constraints[0].dual_value)"
   ]
  },
  {
   "cell_type": "markdown",
   "metadata": {},
   "source": [
    "## 3. Quadratic program (QP)"
   ]
  },
  {
   "cell_type": "markdown",
   "metadata": {},
   "source": [
    "### 3.1 Standard form\n",
    "\n",
    "$$\n",
    "\\begin{align}\n",
    "\\text{minimize} \\;\\;\\; &(1/2) x^T P x + q^T x \\\\\n",
    "\\text{subject to} \\;\\;\\; &G x \\preceq h \\\\\n",
    "& A x = b\n",
    "\\end{align}\n",
    "$$"
   ]
  },
  {
   "cell_type": "markdown",
   "metadata": {},
   "source": [
    "### 3.2 Example: finance QP\n",
    "\n",
    "$$\n",
    "\\begin{align}\n",
    "\\text{minimize} \\;\\;\\;& (1/2) x^T \\Sigma x - r^T x \\\\\n",
    "\\text{subject to} \\;\\;\\;& x \\preceq 0 \\\\\n",
    "& \\mathbf{1}^T x = 1\n",
    "\\end{align}\n",
    "$$\n",
    "\n",
    "Dual solution $\\lambda^*$ such that $\\lambda_i^* > 0 \\implies g_i^T x \\leq h_i$ holds with equality at $x^*$"
   ]
  },
  {
   "cell_type": "code",
   "execution_count": 88,
   "metadata": {},
   "outputs": [],
   "source": [
    "# Generate data\n",
    "m = 15\n",
    "n = 10\n",
    "p = 5\n",
    "np.random.seed(1)\n",
    "P = np.random.randn(n, n)\n",
    "P = P.T @ P\n",
    "q = np.random.randn(n)\n",
    "G = np.random.randn(m, n)\n",
    "h = G @ np.random.randn(n)\n",
    "A = np.random.randn(p, n)\n",
    "b = np.random.randn(p)\n",
    "\n",
    "# Problem\n",
    "x = cp.Variable(n)\n",
    "objective = cp.Minimize((1/2)*cp.quad_form(x, P) + q.T @ x)\n",
    "constraints = [G @ x <= h, \n",
    "               A @ x == b]\n",
    "prob = cp.Problem(objective, constraints)"
   ]
  },
  {
   "cell_type": "code",
   "execution_count": 89,
   "metadata": {},
   "outputs": [
    {
     "name": "stdout",
     "output_type": "stream",
     "text": [
      "The optimal value is 86.89141585569918\n",
      "A solution x is\n",
      "[-1.68244521  0.29769913 -2.38772183 -2.79986015  1.18270433 -0.20911897\n",
      " -4.50993526  3.76683701 -0.45770675 -3.78589638]\n",
      "A dual solution corresponding to the inequality constraints is\n",
      "[ 0.          0.          0.          0.          0.         10.45538054\n",
      "  0.          0.          0.         39.67365045  0.          0.\n",
      "  0.         20.79927156  6.54115873]\n"
     ]
    }
   ],
   "source": [
    "# Print result\n",
    "prob.solve()\n",
    "print(\"The optimal value is\", prob.value)\n",
    "print(\"A solution x is\")\n",
    "print(x.value)\n",
    "print(\"A dual solution corresponding to the inequality constraints is\")\n",
    "print(prob.constraints[0].dual_value)"
   ]
  },
  {
   "cell_type": "markdown",
   "metadata": {},
   "source": [
    "## 4. Second-order cone program (SOCP)\n",
    "### 4.1 General form\n",
    "\n",
    "$$\n",
    "\\begin{align}\n",
    "\\text{minimize} \\;\\;\\;& f^T x \\\\\n",
    "\\text{subject to} \\;\\;\\;& \\|A_i x + b_i\\|_2 \\leq c_i^T x + d_i, \\;\\;\\; i = 1, \\, \\dots, \\, m \\\\\n",
    "& F x = g\n",
    "\\end{align}\n",
    "$$"
   ]
  },
  {
   "cell_type": "markdown",
   "metadata": {},
   "source": [
    "### 4.2 Example: robust linear program\n",
    "__Original form__:\n",
    "$$\n",
    "\\begin{align}\n",
    "\\text{minimize} \\;\\;\\;& c^T x \\\\\n",
    "\\text{subject to} \\;\\;\\; & (a_i + u_i)^T x \\leq b_i \\text{ for all } \\|u_i\\|_2 \\leq 1, \\;\\;\\; i = 1, \\, \\dots, \\, m\n",
    "\\end{align}\n",
    "$$\n",
    "\n",
    "__SOCP form__:\n",
    "$$\n",
    "\\begin{align}\n",
    "\\text{minimize} \\;\\;\\;& c^T x \\\\\n",
    "\\text{subject to} \\;\\;\\; & a_i^T x + \\|x\\|_2 \\leq b_i, \\;\\;\\; i = 1, \\, \\dots, \\, m\n",
    "\\end{align}\n",
    "$$"
   ]
  },
  {
   "cell_type": "code",
   "execution_count": 90,
   "metadata": {},
   "outputs": [],
   "source": [
    "# Parameters\n",
    "m = 3\n",
    "n = 10\n",
    "p = 5\n",
    "n_i = 5\n",
    "np.random.seed(2)\n",
    "f = np.random.randn(n)\n",
    "A = []\n",
    "b = []\n",
    "c = []\n",
    "d = []\n",
    "x0 = np.random.randn(n)\n",
    "\n",
    "# Generate data\n",
    "for i in range(m):\n",
    "    A.append(np.random.randn(n_i, n))\n",
    "    b.append(np.random.randn(n_i))\n",
    "    c.append(np.random.randn(n))\n",
    "    d.append(np.linalg.norm(A[i] @ x0 + b, 2) - c[i].T @ x0)\n",
    "F = np.random.randn(p, n)\n",
    "g = F @ x0"
   ]
  },
  {
   "cell_type": "markdown",
   "metadata": {},
   "source": [
    "Use `cp.SOC(t, x)` to create SOC constraint $\\|x\\|_2 \\leq t$"
   ]
  },
  {
   "cell_type": "code",
   "execution_count": 91,
   "metadata": {},
   "outputs": [],
   "source": [
    "# Define problem\n",
    "x = cp.Variable(n)\n",
    "soc_constraints = [\n",
    "    cp.SOC(c[i].T @ x + d[i], A[i] @ x + b[i]) for i in range(m)\n",
    "]\n",
    "objective = cp.Minimize(f.T @ x)\n",
    "constraints = soc_constraints + [F @ x == g]\n",
    "prob = cp.Problem(objective, constraints)"
   ]
  },
  {
   "cell_type": "code",
   "execution_count": 92,
   "metadata": {},
   "outputs": [
    {
     "name": "stdout",
     "output_type": "stream",
     "text": [
      "The optimal value is -9.582695716265503\n",
      "A solution x is\n",
      "[ 1.40303325  2.4194569   1.69146656 -0.26922215  1.30825472 -0.70834842\n",
      "  0.19313706  1.64153496  0.47698583  0.66581033]\n",
      "SOC constraint 0 dual variable solution\n",
      "[array([0.61662526]), array([[ 0.35370661],\n",
      "       [-0.02327185],\n",
      "       [ 0.04253095],\n",
      "       [ 0.06243588],\n",
      "       [ 0.49886837]])]\n",
      "SOC constraint 1 dual variable solution\n",
      "[array([0.35283078]), array([[-0.14301082],\n",
      "       [ 0.16539699],\n",
      "       [-0.22027817],\n",
      "       [ 0.15440264],\n",
      "       [ 0.06571645]])]\n",
      "SOC constraint 2 dual variable solution\n",
      "[array([0.86510445]), array([[-0.114638  ],\n",
      "       [-0.449291  ],\n",
      "       [ 0.37810251],\n",
      "       [-0.6144058 ],\n",
      "       [-0.11377797]])]\n"
     ]
    }
   ],
   "source": [
    "# Solve problem\n",
    "prob.solve()\n",
    "print(\"The optimal value is\", prob.value)\n",
    "print(\"A solution x is\")\n",
    "print(x.value)\n",
    "for i in range(m):\n",
    "    print(\"SOC constraint %i dual variable solution\" % i)\n",
    "    print(soc_constraints[i].dual_value)"
   ]
  }
 ],
 "metadata": {
  "kernelspec": {
   "display_name": "Python 3",
   "language": "python",
   "name": "python3"
  },
  "language_info": {
   "codemirror_mode": {
    "name": "ipython",
    "version": 3
   },
   "file_extension": ".py",
   "mimetype": "text/x-python",
   "name": "python",
   "nbconvert_exporter": "python",
   "pygments_lexer": "ipython3",
   "version": "3.7.4"
  }
 },
 "nbformat": 4,
 "nbformat_minor": 2
}
